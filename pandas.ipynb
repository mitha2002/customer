{
 "cells": [
  {
   "cell_type": "code",
   "execution_count": 1,
   "id": "f88155a6-c083-4edc-89b7-a30b9cb1a078",
   "metadata": {},
   "outputs": [],
   "source": [
    "import pandas as pd"
   ]
  },
  {
   "cell_type": "code",
   "execution_count": 12,
   "id": "984ed48a-5724-474b-8175-4cc43b858d4a",
   "metadata": {},
   "outputs": [],
   "source": [
    "food=[\"itly\",\"dhosa\",\"poori\",\"vada\",\"pongal\"]\n",
    "price=[20,25,40,15,30]\n",
    "offer_price=[15,20,30,10,35]"
   ]
  },
  {
   "cell_type": "code",
   "execution_count": 13,
   "id": "08c6b0d8-6087-4f58-acf9-a5f7c43840eb",
   "metadata": {},
   "outputs": [],
   "source": [
    "data=pd.DataFrame({\"food\":food,\"Price\":price,\"Offer_price\":offer_price})"
   ]
  },
  {
   "cell_type": "code",
   "execution_count": 14,
   "id": "87a3e33f-2d66-42b2-8a82-67e9f0a01e40",
   "metadata": {},
   "outputs": [
    {
     "data": {
      "text/html": [
       "<div>\n",
       "<style scoped>\n",
       "    .dataframe tbody tr th:only-of-type {\n",
       "        vertical-align: middle;\n",
       "    }\n",
       "\n",
       "    .dataframe tbody tr th {\n",
       "        vertical-align: top;\n",
       "    }\n",
       "\n",
       "    .dataframe thead th {\n",
       "        text-align: right;\n",
       "    }\n",
       "</style>\n",
       "<table border=\"1\" class=\"dataframe\">\n",
       "  <thead>\n",
       "    <tr style=\"text-align: right;\">\n",
       "      <th></th>\n",
       "      <th>food</th>\n",
       "      <th>Price</th>\n",
       "      <th>Offer_price</th>\n",
       "    </tr>\n",
       "  </thead>\n",
       "  <tbody>\n",
       "    <tr>\n",
       "      <th>0</th>\n",
       "      <td>itly</td>\n",
       "      <td>20</td>\n",
       "      <td>15</td>\n",
       "    </tr>\n",
       "    <tr>\n",
       "      <th>1</th>\n",
       "      <td>dhosa</td>\n",
       "      <td>25</td>\n",
       "      <td>20</td>\n",
       "    </tr>\n",
       "    <tr>\n",
       "      <th>2</th>\n",
       "      <td>poori</td>\n",
       "      <td>40</td>\n",
       "      <td>30</td>\n",
       "    </tr>\n",
       "    <tr>\n",
       "      <th>3</th>\n",
       "      <td>vada</td>\n",
       "      <td>15</td>\n",
       "      <td>10</td>\n",
       "    </tr>\n",
       "    <tr>\n",
       "      <th>4</th>\n",
       "      <td>pongal</td>\n",
       "      <td>30</td>\n",
       "      <td>35</td>\n",
       "    </tr>\n",
       "  </tbody>\n",
       "</table>\n",
       "</div>"
      ],
      "text/plain": [
       "     food  Price  Offer_price\n",
       "0    itly     20           15\n",
       "1   dhosa     25           20\n",
       "2   poori     40           30\n",
       "3    vada     15           10\n",
       "4  pongal     30           35"
      ]
     },
     "execution_count": 14,
     "metadata": {},
     "output_type": "execute_result"
    }
   ],
   "source": [
    "data"
   ]
  },
  {
   "cell_type": "code",
   "execution_count": 15,
   "id": "a463e688-eada-40e5-82d5-9bd42be13f2e",
   "metadata": {},
   "outputs": [
    {
     "name": "stdout",
     "output_type": "stream",
     "text": [
      "<class 'pandas.core.frame.DataFrame'>\n",
      "RangeIndex: 5 entries, 0 to 4\n",
      "Data columns (total 3 columns):\n",
      " #   Column       Non-Null Count  Dtype \n",
      "---  ------       --------------  ----- \n",
      " 0   food         5 non-null      object\n",
      " 1   Price        5 non-null      int64 \n",
      " 2   Offer_price  5 non-null      int64 \n",
      "dtypes: int64(2), object(1)\n",
      "memory usage: 252.0+ bytes\n"
     ]
    }
   ],
   "source": [
    "data.info()"
   ]
  },
  {
   "cell_type": "code",
   "execution_count": 16,
   "id": "1530cf1c-edac-4429-b503-57d20d334dbd",
   "metadata": {},
   "outputs": [
    {
     "data": {
      "text/plain": [
       "0      itly\n",
       "1     dhosa\n",
       "2     poori\n",
       "3      vada\n",
       "4    pongal\n",
       "Name: food, dtype: object"
      ]
     },
     "execution_count": 16,
     "metadata": {},
     "output_type": "execute_result"
    }
   ],
   "source": [
    "data.food"
   ]
  },
  {
   "cell_type": "code",
   "execution_count": 19,
   "id": "94be8d00-22b7-40ff-b234-696a9d13be90",
   "metadata": {},
   "outputs": [
    {
     "data": {
      "text/plain": [
       "0    15\n",
       "1    20\n",
       "2    30\n",
       "3    10\n",
       "4    35\n",
       "Name: Offer_price, dtype: int64"
      ]
     },
     "execution_count": 19,
     "metadata": {},
     "output_type": "execute_result"
    }
   ],
   "source": [
    "data[\"Offer_price\"]"
   ]
  },
  {
   "cell_type": "code",
   "execution_count": 22,
   "id": "9d7e914b-161c-4d39-b4a6-44c065ec8ae0",
   "metadata": {},
   "outputs": [],
   "source": [
    "data.to_csv(\"menu.csv\",index=False)"
   ]
  },
  {
   "cell_type": "code",
   "execution_count": 2,
   "id": "afb96e13-4313-49df-ad70-2aef3c85fb30",
   "metadata": {},
   "outputs": [],
   "source": [
    "customer=[\"tvs\",\"maruthi\",\"royal\",\"moter\",\"tata\",]\n",
    "products=[\"bike\",\"car\",\"lori\",\"bike\",\"car\"]\n",
    "price=[10000,150000,80000,50000,160000]"
   ]
  },
  {
   "cell_type": "code",
   "execution_count": 3,
   "id": "7f059fc8-8f1c-4a78-9d06-d7785e9915d0",
   "metadata": {},
   "outputs": [],
   "source": [
    "data=pd.DataFrame({\"customer\":customer,\"products\":products,\"price\":price})"
   ]
  },
  {
   "cell_type": "code",
   "execution_count": 5,
   "id": "46b95b0b-f260-4f8c-b87c-137442f394c3",
   "metadata": {},
   "outputs": [
    {
     "data": {
      "text/html": [
       "<div>\n",
       "<style scoped>\n",
       "    .dataframe tbody tr th:only-of-type {\n",
       "        vertical-align: middle;\n",
       "    }\n",
       "\n",
       "    .dataframe tbody tr th {\n",
       "        vertical-align: top;\n",
       "    }\n",
       "\n",
       "    .dataframe thead th {\n",
       "        text-align: right;\n",
       "    }\n",
       "</style>\n",
       "<table border=\"1\" class=\"dataframe\">\n",
       "  <thead>\n",
       "    <tr style=\"text-align: right;\">\n",
       "      <th></th>\n",
       "      <th>customer</th>\n",
       "      <th>products</th>\n",
       "      <th>price</th>\n",
       "    </tr>\n",
       "  </thead>\n",
       "  <tbody>\n",
       "    <tr>\n",
       "      <th>0</th>\n",
       "      <td>tvs</td>\n",
       "      <td>bike</td>\n",
       "      <td>10000</td>\n",
       "    </tr>\n",
       "    <tr>\n",
       "      <th>1</th>\n",
       "      <td>maruthi</td>\n",
       "      <td>car</td>\n",
       "      <td>150000</td>\n",
       "    </tr>\n",
       "    <tr>\n",
       "      <th>2</th>\n",
       "      <td>royal</td>\n",
       "      <td>lori</td>\n",
       "      <td>80000</td>\n",
       "    </tr>\n",
       "    <tr>\n",
       "      <th>3</th>\n",
       "      <td>moter</td>\n",
       "      <td>bike</td>\n",
       "      <td>50000</td>\n",
       "    </tr>\n",
       "    <tr>\n",
       "      <th>4</th>\n",
       "      <td>tata</td>\n",
       "      <td>car</td>\n",
       "      <td>160000</td>\n",
       "    </tr>\n",
       "  </tbody>\n",
       "</table>\n",
       "</div>"
      ],
      "text/plain": [
       "  customer products   price\n",
       "0      tvs     bike   10000\n",
       "1  maruthi      car  150000\n",
       "2    royal     lori   80000\n",
       "3    moter     bike   50000\n",
       "4     tata      car  160000"
      ]
     },
     "execution_count": 5,
     "metadata": {},
     "output_type": "execute_result"
    }
   ],
   "source": [
    "data"
   ]
  },
  {
   "cell_type": "code",
   "execution_count": 7,
   "id": "7ec9bf92-e662-472c-8d15-d8cbcd0de5b5",
   "metadata": {},
   "outputs": [
    {
     "name": "stdout",
     "output_type": "stream",
     "text": [
      "<class 'pandas.core.frame.DataFrame'>\n",
      "RangeIndex: 5 entries, 0 to 4\n",
      "Data columns (total 3 columns):\n",
      " #   Column    Non-Null Count  Dtype \n",
      "---  ------    --------------  ----- \n",
      " 0   customer  5 non-null      object\n",
      " 1   products  5 non-null      object\n",
      " 2   price     5 non-null      int64 \n",
      "dtypes: int64(1), object(2)\n",
      "memory usage: 252.0+ bytes\n"
     ]
    }
   ],
   "source": [
    "data.info()"
   ]
  },
  {
   "cell_type": "code",
   "execution_count": 9,
   "id": "c719e047-a0db-459d-a957-6f349c4cb32a",
   "metadata": {},
   "outputs": [
    {
     "data": {
      "text/plain": [
       "0        tvs\n",
       "1    maruthi\n",
       "2      royal\n",
       "3      moter\n",
       "4       tata\n",
       "Name: customer, dtype: object"
      ]
     },
     "execution_count": 9,
     "metadata": {},
     "output_type": "execute_result"
    }
   ],
   "source": [
    "data.customer"
   ]
  },
  {
   "cell_type": "code",
   "execution_count": null,
   "id": "ef961dee-f2b2-4c44-b95e-16a1c90ba6cc",
   "metadata": {},
   "outputs": [],
   "source": []
  }
 ],
 "metadata": {
  "kernelspec": {
   "display_name": "Python 3 (ipykernel)",
   "language": "python",
   "name": "python3"
  },
  "language_info": {
   "codemirror_mode": {
    "name": "ipython",
    "version": 3
   },
   "file_extension": ".py",
   "mimetype": "text/x-python",
   "name": "python",
   "nbconvert_exporter": "python",
   "pygments_lexer": "ipython3",
   "version": "3.12.0"
  }
 },
 "nbformat": 4,
 "nbformat_minor": 5
}
