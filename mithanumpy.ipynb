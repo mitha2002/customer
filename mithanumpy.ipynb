{
 "cells": [
  {
   "cell_type": "code",
   "execution_count": 7,
   "id": "a595afcd-daf5-43c2-bd38-7d2bddcb79e1",
   "metadata": {},
   "outputs": [
    {
     "data": {
      "text/plain": [
       "array([  2,   4,  56, 422,  32,   1])"
      ]
     },
     "execution_count": 7,
     "metadata": {},
     "output_type": "execute_result"
    }
   ],
   "source": [
    "import numpy as np\n",
    "np.array([2,4,56,422,32,1]) "
   ]
  },
  {
   "cell_type": "code",
   "execution_count": 7,
   "id": "5a279c90-cfe7-4bf9-b433-413bd0424bfc",
   "metadata": {},
   "outputs": [
    {
     "data": {
      "text/plain": [
       "array([  2,   4,  56, 422,  32,   1])"
      ]
     },
     "execution_count": 7,
     "metadata": {},
     "output_type": "execute_result"
    }
   ],
   "source": [
    "import numpy as np\n",
    "np.array([2,4,56,422,32,1]) "
   ]
  },
  {
   "cell_type": "code",
   "execution_count": 2,
   "id": "c6ff8c28-738c-4834-9f32-3119e755d043",
   "metadata": {},
   "outputs": [
    {
     "name": "stdout",
     "output_type": "stream",
     "text": [
      "[  2   4  56 422  32   1]\n"
     ]
    }
   ],
   "source": [
    "a = np.array([2,4,56,422,32,1]) \n",
    "print(a) "
   ]
  },
  {
   "cell_type": "code",
   "execution_count": 3,
   "id": "7d1ce6b1-cb27-4f64-aea7-b215d08dc068",
   "metadata": {},
   "outputs": [
    {
     "data": {
      "text/plain": [
       "numpy.ndarray"
      ]
     },
     "execution_count": 3,
     "metadata": {},
     "output_type": "execute_result"
    }
   ],
   "source": [
    "type(a)"
   ]
  },
  {
   "cell_type": "code",
   "execution_count": 4,
   "id": "4a06c415-808a-4881-8b25-317dcee8deb1",
   "metadata": {},
   "outputs": [
    {
     "name": "stdout",
     "output_type": "stream",
     "text": [
      "[[45 34 22  2]\n",
      " [24 55  3 22]]\n"
     ]
    }
   ],
   "source": [
    "new = np.array([[45,34,22,2],[24,55,3,22]])\n",
    "print(new)"
   ]
  },
  {
   "cell_type": "code",
   "execution_count": 10,
   "id": "dbbf425b-e2a4-463c-b4bc-9d028bfd4b1d",
   "metadata": {},
   "outputs": [
    {
     "data": {
      "text/plain": [
       "array([[  2,   3,  33,   4,  45],\n",
       "       [ 23,  45,  56,  66,   2],\n",
       "       [357, 523,  32,  24,   2],\n",
       "       [ 32,  32,  44,  33, 234]])"
      ]
     },
     "execution_count": 10,
     "metadata": {},
     "output_type": "execute_result"
    }
   ],
   "source": [
    "np.array ( [[2,3,33,4,45],[23,45,56,66,2],[357,523,32,24,2],[32,32,44,33,234]])\n",
    "            "
   ]
  },
  {
   "cell_type": "code",
   "execution_count": 11,
   "id": "4b8f01f2-c793-42b0-aa42-4d7f1267e237",
   "metadata": {},
   "outputs": [
    {
     "data": {
      "text/plain": [
       "array([11., 23., 44.])"
      ]
     },
     "execution_count": 11,
     "metadata": {},
     "output_type": "execute_result"
    }
   ],
   "source": [
    "np.array([11,23,44] , dtype =float)"
   ]
  },
  {
   "cell_type": "code",
   "execution_count": 12,
   "id": "0f4f424a-7092-491a-a8e0-003f0ae599e7",
   "metadata": {},
   "outputs": [
    {
     "data": {
      "text/plain": [
       "array([ True,  True,  True])"
      ]
     },
     "execution_count": 12,
     "metadata": {},
     "output_type": "execute_result"
    }
   ],
   "source": [
    "np.array([11,23,44] , dtype =bool)"
   ]
  },
  {
   "cell_type": "code",
   "execution_count": 13,
   "id": "f8fddaca-ec5e-45a9-aae4-ef6c4bfecb7a",
   "metadata": {},
   "outputs": [
    {
     "data": {
      "text/plain": [
       "array([11.+0.j, 23.+0.j, 44.+0.j])"
      ]
     },
     "execution_count": 13,
     "metadata": {},
     "output_type": "execute_result"
    }
   ],
   "source": [
    "np.array([11,23,44] , dtype =complex)"
   ]
  },
  {
   "cell_type": "code",
   "execution_count": 14,
   "id": "15d2fe40-6c06-4c02-9635-06a8feabf57d",
   "metadata": {},
   "outputs": [
    {
     "data": {
      "text/plain": [
       "array([ 1,  2,  3,  4,  5,  6,  7,  8,  9, 10, 11, 12, 13, 14, 15, 16, 17,\n",
       "       18, 19, 20, 21, 22, 23, 24])"
      ]
     },
     "execution_count": 14,
     "metadata": {},
     "output_type": "execute_result"
    }
   ],
   "source": [
    "np.arange(1,25) "
   ]
  },
  {
   "cell_type": "code",
   "execution_count": 15,
   "id": "85b90d9e-b25b-491d-85b3-7eec906d17f2",
   "metadata": {},
   "outputs": [
    {
     "data": {
      "text/plain": [
       "array([ 1,  3,  5,  7,  9, 11, 13, 15, 17, 19, 21, 23])"
      ]
     },
     "execution_count": 15,
     "metadata": {},
     "output_type": "execute_result"
    }
   ],
   "source": [
    "np.arange(1,25,2)"
   ]
  },
  {
   "cell_type": "code",
   "execution_count": 16,
   "id": "a599e6f5-ae3d-4eb3-b81b-a008a944727a",
   "metadata": {},
   "outputs": [
    {
     "data": {
      "text/plain": [
       "array([[ 1,  2],\n",
       "       [ 3,  4],\n",
       "       [ 5,  6],\n",
       "       [ 7,  8],\n",
       "       [ 9, 10]])"
      ]
     },
     "execution_count": 16,
     "metadata": {},
     "output_type": "execute_result"
    }
   ],
   "source": [
    "np.arange(1,11).reshape(5,2)"
   ]
  },
  {
   "cell_type": "code",
   "execution_count": 17,
   "id": "e7f4dd3c-a788-42bc-90b8-0fd80ed2ac19",
   "metadata": {},
   "outputs": [
    {
     "data": {
      "text/plain": [
       "array([[ 1,  2,  3,  4,  5],\n",
       "       [ 6,  7,  8,  9, 10]])"
      ]
     },
     "execution_count": 17,
     "metadata": {},
     "output_type": "execute_result"
    }
   ],
   "source": [
    "np.arange(1,11).reshape(2,5)"
   ]
  },
  {
   "cell_type": "code",
   "execution_count": 18,
   "id": "3ebc91c2-f1b3-464d-9fe7-5765656c9d00",
   "metadata": {},
   "outputs": [
    {
     "data": {
      "text/plain": [
       "array([[ 1,  2,  3,  4],\n",
       "       [ 5,  6,  7,  8],\n",
       "       [ 9, 10, 11, 12]])"
      ]
     },
     "execution_count": 18,
     "metadata": {},
     "output_type": "execute_result"
    }
   ],
   "source": [
    "np.arange(1,13).reshape(3,4) "
   ]
  },
  {
   "cell_type": "code",
   "execution_count": 19,
   "id": "734605f5-4eef-4b87-b3e4-153b68fcdb5d",
   "metadata": {},
   "outputs": [
    {
     "data": {
      "text/plain": [
       "array([[1., 1., 1., 1.],\n",
       "       [1., 1., 1., 1.],\n",
       "       [1., 1., 1., 1.]])"
      ]
     },
     "execution_count": 19,
     "metadata": {},
     "output_type": "execute_result"
    }
   ],
   "source": [
    "np.ones((3,4)) "
   ]
  },
  {
   "cell_type": "code",
   "execution_count": 20,
   "id": "55ac7101-154a-4b37-818f-b5ca0bc8f38b",
   "metadata": {},
   "outputs": [
    {
     "data": {
      "text/plain": [
       "array([[0., 0., 0., 0.],\n",
       "       [0., 0., 0., 0.],\n",
       "       [0., 0., 0., 0.]])"
      ]
     },
     "execution_count": 20,
     "metadata": {},
     "output_type": "execute_result"
    }
   ],
   "source": [
    "np.zeros((3,4))"
   ]
  },
  {
   "cell_type": "code",
   "execution_count": 21,
   "id": "fe4618ce-36eb-4c4e-a871-8135da7c0ffe",
   "metadata": {},
   "outputs": [
    {
     "data": {
      "text/plain": [
       "array([[0.73730675, 0.77584257, 0.03732035],\n",
       "       [0.37696829, 0.98043507, 0.49411327],\n",
       "       [0.59239812, 0.9714019 , 0.68471572],\n",
       "       [0.24185931, 0.76420392, 0.59065317]])"
      ]
     },
     "execution_count": 21,
     "metadata": {},
     "output_type": "execute_result"
    }
   ],
   "source": [
    "np.random.random((4,3))"
   ]
  },
  {
   "cell_type": "code",
   "execution_count": 22,
   "id": "f75307eb-3a6e-4082-ad52-198d17816569",
   "metadata": {},
   "outputs": [
    {
     "data": {
      "text/plain": [
       "array([-10.        ,  -7.77777778,  -5.55555556,  -3.33333333,\n",
       "        -1.11111111,   1.11111111,   3.33333333,   5.55555556,\n",
       "         7.77777778,  10.        ])"
      ]
     },
     "execution_count": 22,
     "metadata": {},
     "output_type": "execute_result"
    }
   ],
   "source": [
    "np.linspace(-10,10,10)"
   ]
  },
  {
   "cell_type": "code",
   "execution_count": 23,
   "id": "56827df7-1f9a-40a7-bcbb-dd55e93518f2",
   "metadata": {},
   "outputs": [
    {
     "data": {
      "text/plain": [
       "array([[1., 0., 0.],\n",
       "       [0., 1., 0.],\n",
       "       [0., 0., 1.]])"
      ]
     },
     "execution_count": 23,
     "metadata": {},
     "output_type": "execute_result"
    }
   ],
   "source": [
    "np.identity(3)"
   ]
  },
  {
   "cell_type": "code",
   "execution_count": 24,
   "id": "1bc8c480-dfca-4cb1-b95b-e51d99f74373",
   "metadata": {},
   "outputs": [
    {
     "data": {
      "text/plain": [
       "array([[1., 0., 0., 0., 0., 0.],\n",
       "       [0., 1., 0., 0., 0., 0.],\n",
       "       [0., 0., 1., 0., 0., 0.],\n",
       "       [0., 0., 0., 1., 0., 0.],\n",
       "       [0., 0., 0., 0., 1., 0.],\n",
       "       [0., 0., 0., 0., 0., 1.]])"
      ]
     },
     "execution_count": 24,
     "metadata": {},
     "output_type": "execute_result"
    }
   ],
   "source": [
    "np.identity(6)"
   ]
  },
  {
   "cell_type": "code",
   "execution_count": 25,
   "id": "0681b9d6-8936-4841-9ee4-f10da069f1ff",
   "metadata": {},
   "outputs": [],
   "source": [
    "a1 = np.arange(10)"
   ]
  },
  {
   "cell_type": "code",
   "execution_count": 26,
   "id": "1aba9422-854c-40c6-9289-7cc621e99efb",
   "metadata": {},
   "outputs": [
    {
     "data": {
      "text/plain": [
       "array([  2,   4,  56, 422,  32,   1])"
      ]
     },
     "execution_count": 26,
     "metadata": {},
     "output_type": "execute_result"
    }
   ],
   "source": [
    "a"
   ]
  },
  {
   "cell_type": "code",
   "execution_count": 27,
   "id": "5153e60b-8104-48ee-973b-f12cc830d039",
   "metadata": {},
   "outputs": [],
   "source": [
    "a2 =np.arange(12, dtype =float).reshape(3,4)"
   ]
  },
  {
   "cell_type": "code",
   "execution_count": 28,
   "id": "d6f42765-dd7a-421c-bb8a-bc528f983c80",
   "metadata": {},
   "outputs": [
    {
     "data": {
      "text/plain": [
       "array([[ 0.,  1.,  2.,  3.],\n",
       "       [ 4.,  5.,  6.,  7.],\n",
       "       [ 8.,  9., 10., 11.]])"
      ]
     },
     "execution_count": 28,
     "metadata": {},
     "output_type": "execute_result"
    }
   ],
   "source": [
    "a2"
   ]
  },
  {
   "cell_type": "code",
   "execution_count": 29,
   "id": "9eea556a-d501-49e4-adc8-2990afd28d59",
   "metadata": {},
   "outputs": [
    {
     "data": {
      "text/plain": [
       "array([[[0, 1],\n",
       "        [2, 3]],\n",
       "\n",
       "       [[4, 5],\n",
       "        [6, 7]]])"
      ]
     },
     "execution_count": 29,
     "metadata": {},
     "output_type": "execute_result"
    }
   ],
   "source": [
    "a3 = np.arange(8).reshape(2,2,2)\n",
    "a3"
   ]
  },
  {
   "cell_type": "code",
   "execution_count": 35,
   "id": "c94fff9d-5529-4e92-9f65-b4597740e88a",
   "metadata": {},
   "outputs": [
    {
     "name": "stdout",
     "output_type": "stream",
     "text": [
      "int64\n",
      "float64\n",
      "int64\n"
     ]
    }
   ],
   "source": [
    "print(a1.dtype)\n",
    "print(a2.dtype)\n",
    "print(a3.dtype)\n"
   ]
  },
  {
   "cell_type": "code",
   "execution_count": 36,
   "id": "c3f5f332-37a7-49d7-8b23-985dd6ee3144",
   "metadata": {},
   "outputs": [],
   "source": [
    "z1 = np.arange(12).reshape(3,4)\n",
    "z2 = np.arange(12,24).reshape(3,4)"
   ]
  },
  {
   "cell_type": "code",
   "execution_count": 37,
   "id": "b3b6b8ec-d07e-4d3b-a7db-769f473de437",
   "metadata": {},
   "outputs": [
    {
     "data": {
      "text/plain": [
       "array([[ 0,  1,  2,  3],\n",
       "       [ 4,  5,  6,  7],\n",
       "       [ 8,  9, 10, 11]])"
      ]
     },
     "execution_count": 37,
     "metadata": {},
     "output_type": "execute_result"
    }
   ],
   "source": [
    "z1"
   ]
  },
  {
   "cell_type": "code",
   "execution_count": 38,
   "id": "104062c5-93ee-4096-9562-9ffb1114864a",
   "metadata": {},
   "outputs": [
    {
     "data": {
      "text/plain": [
       "array([[12, 13, 14, 15],\n",
       "       [16, 17, 18, 19],\n",
       "       [20, 21, 22, 23]])"
      ]
     },
     "execution_count": 38,
     "metadata": {},
     "output_type": "execute_result"
    }
   ],
   "source": [
    "z2"
   ]
  },
  {
   "cell_type": "code",
   "execution_count": 39,
   "id": "82037e76-77ec-4f6e-8a9f-0404fc5600d7",
   "metadata": {},
   "outputs": [
    {
     "data": {
      "text/plain": [
       "array([[ 2,  3,  4,  5],\n",
       "       [ 6,  7,  8,  9],\n",
       "       [10, 11, 12, 13]])"
      ]
     },
     "execution_count": 39,
     "metadata": {},
     "output_type": "execute_result"
    }
   ],
   "source": [
    "z1+2"
   ]
  },
  {
   "cell_type": "code",
   "execution_count": 40,
   "id": "79c36a89-4938-4174-93e2-609c88d97e94",
   "metadata": {},
   "outputs": [
    {
     "data": {
      "text/plain": [
       "array([[-2, -1,  0,  1],\n",
       "       [ 2,  3,  4,  5],\n",
       "       [ 6,  7,  8,  9]])"
      ]
     },
     "execution_count": 40,
     "metadata": {},
     "output_type": "execute_result"
    }
   ],
   "source": [
    "z1-2"
   ]
  },
  {
   "cell_type": "code",
   "execution_count": 41,
   "id": "f1e853f3-10de-444b-919d-79a61a045ea7",
   "metadata": {},
   "outputs": [
    {
     "data": {
      "text/plain": [
       "array([[ 0,  2,  4,  6],\n",
       "       [ 8, 10, 12, 14],\n",
       "       [16, 18, 20, 22]])"
      ]
     },
     "execution_count": 41,
     "metadata": {},
     "output_type": "execute_result"
    }
   ],
   "source": [
    "z1*2"
   ]
  },
  {
   "cell_type": "code",
   "execution_count": 42,
   "id": "3c56016c-bf15-4a10-a5b2-d59c14cd72cf",
   "metadata": {},
   "outputs": [
    {
     "data": {
      "text/plain": [
       "array([[0, 1, 0, 1],\n",
       "       [0, 1, 0, 1],\n",
       "       [0, 1, 0, 1]])"
      ]
     },
     "execution_count": 42,
     "metadata": {},
     "output_type": "execute_result"
    }
   ],
   "source": [
    "z1%2"
   ]
  },
  {
   "cell_type": "code",
   "execution_count": 43,
   "id": "3d0e9063-e210-47bc-ae81-480e4dc877c2",
   "metadata": {},
   "outputs": [
    {
     "data": {
      "text/plain": [
       "array([[12, 14, 16, 18],\n",
       "       [20, 22, 24, 26],\n",
       "       [28, 30, 32, 34]])"
      ]
     },
     "execution_count": 43,
     "metadata": {},
     "output_type": "execute_result"
    }
   ],
   "source": [
    "z1+z2"
   ]
  },
  {
   "cell_type": "code",
   "execution_count": 44,
   "id": "c5ab922d-e7c5-4f87-b8c3-31da6712ee91",
   "metadata": {},
   "outputs": [
    {
     "data": {
      "text/plain": [
       "array([[ True,  True, False, False],\n",
       "       [False, False, False, False],\n",
       "       [False, False, False, False]])"
      ]
     },
     "execution_count": 44,
     "metadata": {},
     "output_type": "execute_result"
    }
   ],
   "source": [
    "z1<2"
   ]
  },
  {
   "cell_type": "code",
   "execution_count": 45,
   "id": "dbd30fcc-7859-4aea-89d2-7f6e34dd8fb0",
   "metadata": {},
   "outputs": [
    {
     "data": {
      "text/plain": [
       "array([[False, False, False,  True],\n",
       "       [ True,  True,  True,  True],\n",
       "       [ True,  True,  True,  True]])"
      ]
     },
     "execution_count": 45,
     "metadata": {},
     "output_type": "execute_result"
    }
   ],
   "source": [
    "z1>2"
   ]
  },
  {
   "cell_type": "code",
   "execution_count": 46,
   "id": "bab7b560-faa8-4e01-a62b-42310db159b0",
   "metadata": {},
   "outputs": [
    {
     "data": {
      "text/plain": [
       "array([[65., 64., 78.],\n",
       "       [86., 57., 67.],\n",
       "       [10., 87., 30.]])"
      ]
     },
     "execution_count": 46,
     "metadata": {},
     "output_type": "execute_result"
    }
   ],
   "source": [
    "\n",
    "k1 = np.random.random((3,3))\n",
    "k1 = np.round(k1*100)\n",
    "k1"
   ]
  },
  {
   "cell_type": "code",
   "execution_count": 47,
   "id": "9bf2433e-8432-4ea2-90ba-a272683945a1",
   "metadata": {},
   "outputs": [
    {
     "data": {
      "text/plain": [
       "np.float64(87.0)"
      ]
     },
     "execution_count": 47,
     "metadata": {},
     "output_type": "execute_result"
    }
   ],
   "source": [
    "np.max(k1)"
   ]
  },
  {
   "cell_type": "code",
   "execution_count": 48,
   "id": "af60a062-4925-4804-9ba0-8be3ab7e3c14",
   "metadata": {},
   "outputs": [
    {
     "data": {
      "text/plain": [
       "np.float64(10.0)"
      ]
     },
     "execution_count": 48,
     "metadata": {},
     "output_type": "execute_result"
    }
   ],
   "source": [
    "np.min(k1)"
   ]
  },
  {
   "cell_type": "code",
   "execution_count": 49,
   "id": "72a9dad6-bc7b-42e5-b5e2-c8465b4d80d7",
   "metadata": {},
   "outputs": [
    {
     "data": {
      "text/plain": [
       "np.float64(2781483898752000.0)"
      ]
     },
     "execution_count": 49,
     "metadata": {},
     "output_type": "execute_result"
    }
   ],
   "source": [
    "np.prod(k1)"
   ]
  },
  {
   "cell_type": "code",
   "execution_count": 50,
   "id": "b31a732e-e9a4-4ba6-b42b-6277eb9584ad",
   "metadata": {},
   "outputs": [],
   "source": [
    "s2 = np.arange(12).reshape(3,4)\n",
    "s3 = np.arange(12,24).reshape(4,3)"
   ]
  },
  {
   "cell_type": "code",
   "execution_count": 51,
   "id": "3ffe5958-7c86-4294-991b-784488e1abbf",
   "metadata": {},
   "outputs": [
    {
     "data": {
      "text/plain": [
       "array([[ 0,  1,  2,  3],\n",
       "       [ 4,  5,  6,  7],\n",
       "       [ 8,  9, 10, 11]])"
      ]
     },
     "execution_count": 51,
     "metadata": {},
     "output_type": "execute_result"
    }
   ],
   "source": [
    "s2"
   ]
  },
  {
   "cell_type": "code",
   "execution_count": 52,
   "id": "dcf0d53b-bf8e-4b0f-929a-58146ac84e5a",
   "metadata": {},
   "outputs": [
    {
     "data": {
      "text/plain": [
       "array([[12, 13, 14],\n",
       "       [15, 16, 17],\n",
       "       [18, 19, 20],\n",
       "       [21, 22, 23]])"
      ]
     },
     "execution_count": 52,
     "metadata": {},
     "output_type": "execute_result"
    }
   ],
   "source": [
    "s3"
   ]
  },
  {
   "cell_type": "code",
   "execution_count": 53,
   "id": "8816622a-20cd-420d-b536-8c0b0782fdc8",
   "metadata": {},
   "outputs": [
    {
     "data": {
      "text/plain": [
       "array([[114, 120, 126],\n",
       "       [378, 400, 422],\n",
       "       [642, 680, 718]])"
      ]
     },
     "execution_count": 53,
     "metadata": {},
     "output_type": "execute_result"
    }
   ],
   "source": [
    "np.dot(s2,s3)"
   ]
  },
  {
   "cell_type": "code",
   "execution_count": 54,
   "id": "692a1330-e604-49c2-a53a-f1a4a3864b91",
   "metadata": {},
   "outputs": [
    {
     "name": "stdout",
     "output_type": "stream",
     "text": [
      "[1. 3. 4. 5.]\n"
     ]
    }
   ],
   "source": [
    "arr = np.array([1.2, 2.7, 3.5, 4.9])\n",
    "rounded_arr = np.round(arr)\n",
    "print(rounded_arr)"
   ]
  },
  {
   "cell_type": "code",
   "execution_count": 55,
   "id": "990eddd4-ed41-4a72-96ef-bcf54c9c6765",
   "metadata": {},
   "outputs": [],
   "source": [
    "p1 = np.arange(10)\n",
    "p2 = np.arange(12).reshape(3,4)\n",
    "p3 = np.arange(8).reshape(2,2,2)"
   ]
  },
  {
   "cell_type": "code",
   "execution_count": 56,
   "id": "b3ce81e4-559f-4ec4-a14b-0c4c1aa67c75",
   "metadata": {},
   "outputs": [
    {
     "data": {
      "text/plain": [
       "array([0, 1, 2, 3, 4, 5, 6, 7, 8, 9])"
      ]
     },
     "execution_count": 56,
     "metadata": {},
     "output_type": "execute_result"
    }
   ],
   "source": [
    "p1"
   ]
  },
  {
   "cell_type": "code",
   "execution_count": 57,
   "id": "1c594f2c-2a24-491f-aa7d-a0da46dc5e6a",
   "metadata": {},
   "outputs": [
    {
     "data": {
      "text/plain": [
       "array([[ 0,  1,  2,  3],\n",
       "       [ 4,  5,  6,  7],\n",
       "       [ 8,  9, 10, 11]])"
      ]
     },
     "execution_count": 57,
     "metadata": {},
     "output_type": "execute_result"
    }
   ],
   "source": [
    "p2"
   ]
  },
  {
   "cell_type": "code",
   "execution_count": 58,
   "id": "273263c2-5fbf-4309-b49a-79ec5fc1cfd1",
   "metadata": {},
   "outputs": [
    {
     "data": {
      "text/plain": [
       "array([[[0, 1],\n",
       "        [2, 3]],\n",
       "\n",
       "       [[4, 5],\n",
       "        [6, 7]]])"
      ]
     },
     "execution_count": 58,
     "metadata": {},
     "output_type": "execute_result"
    }
   ],
   "source": [
    "p3"
   ]
  },
  {
   "cell_type": "code",
   "execution_count": 59,
   "id": "275e7d83-049e-48e8-ac03-eb6ae92045d2",
   "metadata": {},
   "outputs": [
    {
     "data": {
      "text/plain": [
       "np.int64(6)"
      ]
     },
     "execution_count": 59,
     "metadata": {},
     "output_type": "execute_result"
    }
   ],
   "source": [
    "p2[1,2]"
   ]
  },
  {
   "cell_type": "code",
   "execution_count": 60,
   "id": "08477c21-e626-406d-b04b-4ef1e54ae599",
   "metadata": {},
   "outputs": [
    {
     "data": {
      "text/plain": [
       "np.int64(0)"
      ]
     },
     "execution_count": 60,
     "metadata": {},
     "output_type": "execute_result"
    }
   ],
   "source": [
    "p3[0,0,0]"
   ]
  },
  {
   "cell_type": "code",
   "execution_count": 61,
   "id": "b09c7cc2-5264-4aa2-a1ee-c97c4eb58c07",
   "metadata": {},
   "outputs": [
    {
     "data": {
      "text/plain": [
       "array([2, 3, 4])"
      ]
     },
     "execution_count": 61,
     "metadata": {},
     "output_type": "execute_result"
    }
   ],
   "source": [
    "p1[2:5]\n"
   ]
  },
  {
   "cell_type": "code",
   "execution_count": 62,
   "id": "9e0d52eb-dcfd-4752-b463-e4d65860003f",
   "metadata": {},
   "outputs": [
    {
     "data": {
      "text/plain": [
       "array([[ 5,  6],\n",
       "       [ 9, 10]])"
      ]
     },
     "execution_count": 62,
     "metadata": {},
     "output_type": "execute_result"
    }
   ],
   "source": [
    "p2[1:3 ,1:3] "
   ]
  },
  {
   "cell_type": "code",
   "execution_count": 63,
   "id": "8526ed2c-e53a-4f8b-a563-625ba6031610",
   "metadata": {},
   "outputs": [
    {
     "data": {
      "text/plain": [
       "array([[[ 0,  1,  2],\n",
       "        [ 3,  4,  5],\n",
       "        [ 6,  7,  8]],\n",
       "\n",
       "       [[ 9, 10, 11],\n",
       "        [12, 13, 14],\n",
       "        [15, 16, 17]],\n",
       "\n",
       "       [[18, 19, 20],\n",
       "        [21, 22, 23],\n",
       "        [24, 25, 26]]])"
      ]
     },
     "execution_count": 63,
     "metadata": {},
     "output_type": "execute_result"
    }
   ],
   "source": [
    "p3 = np.arange(27).reshape(3,3,3)\n",
    "p3\n"
   ]
  },
  {
   "cell_type": "code",
   "execution_count": 64,
   "id": "66fa061c-a405-4640-afc1-d0fc707c12e6",
   "metadata": {},
   "outputs": [
    {
     "data": {
      "text/plain": [
       "array([[[ 0,  1,  2],\n",
       "        [ 3,  4,  5],\n",
       "        [ 6,  7,  8]],\n",
       "\n",
       "       [[18, 19, 20],\n",
       "        [21, 22, 23],\n",
       "        [24, 25, 26]]])"
      ]
     },
     "execution_count": 64,
     "metadata": {},
     "output_type": "execute_result"
    }
   ],
   "source": [
    "p3[::2]\n"
   ]
  },
  {
   "cell_type": "code",
   "execution_count": 65,
   "id": "dac6dd7d-340f-4b8c-bab8-340c4ef14fbd",
   "metadata": {},
   "outputs": [
    {
     "data": {
      "text/plain": [
       "array([0, 1, 2, 3, 4, 5, 6, 7, 8, 9])"
      ]
     },
     "execution_count": 65,
     "metadata": {},
     "output_type": "execute_result"
    }
   ],
   "source": [
    "p1"
   ]
  },
  {
   "cell_type": "code",
   "execution_count": 66,
   "id": "b8b10a89-3c01-4e34-9b27-1bdfbb10d8cd",
   "metadata": {},
   "outputs": [
    {
     "name": "stdout",
     "output_type": "stream",
     "text": [
      "0\n",
      "1\n",
      "2\n",
      "3\n",
      "4\n",
      "5\n",
      "6\n",
      "7\n",
      "8\n",
      "9\n"
     ]
    }
   ],
   "source": [
    "for i in p1:\n",
    " print(i)"
   ]
  },
  {
   "cell_type": "code",
   "execution_count": null,
   "id": "68a3df15-590a-4fc1-9a8c-9454172c1cd1",
   "metadata": {},
   "outputs": [],
   "source": []
  }
 ],
 "metadata": {
  "kernelspec": {
   "display_name": "Python 3 (ipykernel)",
   "language": "python",
   "name": "python3"
  },
  "language_info": {
   "codemirror_mode": {
    "name": "ipython",
    "version": 3
   },
   "file_extension": ".py",
   "mimetype": "text/x-python",
   "name": "python",
   "nbconvert_exporter": "python",
   "pygments_lexer": "ipython3",
   "version": "3.12.0"
  }
 },
 "nbformat": 4,
 "nbformat_minor": 5
}
